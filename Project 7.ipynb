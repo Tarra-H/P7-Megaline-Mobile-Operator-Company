{
 "cells": [
  {
   "cell_type": "markdown",
   "metadata": {},
   "source": [
    "# Deskripsi Proyek\n",
    "Operator seluler Megaline merasa tidak puas karena sebagian besar pelanggan mereka masih menggunakan paket lama. Perusahaan tersebut ingin mengembangkan sebuah model yang bisa menganalisis perilaku konsumen dan merekomendasikan salah satu dari kedua paket terbaru Megaline: Smart atau Ultra.\n",
    "Kamu punya akses untuk data perilaku para pelanggan yang sudah beralih ke paket terbaru (dari proyek kursus Analisis Data Statistik). Dalam tugas klasifikasi ini, kamu perlu mengembangkan sebuah model yang mampu memilih paket dengan tepat. Nah, karena kamu sudah menyelesaikan langkah pra-pemrosesan data, kamu bisa langsung lanjut ke tahapan pembuatan model.\n",
    "Kembangkan sebuah model dengan tingkat accuracy yang setinggi-tingginya. Di proyek ini, ambang batas untuk tingkat accuracy adalah 0,75. Jangan lupa untuk memeriksa tingkat accuracy modelmu menggunakan test dataset, ya."
   ]
  },
  {
   "cell_type": "markdown",
   "metadata": {},
   "source": [
    "# Pendahuluan\n",
    "Pada saat melakukan analisis, kita perlu merumuskan beberapa hipotesis yang perlu kita uji lebih terlebih dahulu. Tidak semua hipotesis yang kita kerjakan bisa langsung digunakan, kita harus bisa memilih hipotesis mana yang paling tepat untuk menyelesaikan masalah-masalah yang ada pada data yang kita miliki. Untuk membuat keputusan yang tepat, kita harus memahami apakah asumsi yang kita buat sudah tepat atau belum."
   ]
  },
  {
   "cell_type": "markdown",
   "metadata": {},
   "source": [
    "# Tujuan\n",
    "Untuk membantu Perusahaan Operator seluler Megaline yang ingin mengembangkan sebuah model yang bisa menganalisis perilaku konsumen dan merekomendasikan salah satu dari kedua paket terbaru Megaline: Smart atau Ultra."
   ]
  },
  {
   "cell_type": "markdown",
   "metadata": {},
   "source": [
    "# Langkah Pengerjaan:\n",
    "    1. Buka dan periksa file data secara teliti. File path: /datasets/users_behavior.csv. Unduh dataset.\n",
    "    2. Pisahkan data sumber menjadi training set, validation set, dan test set.\n",
    "    3. Periksa kualitas model yang berbeda dengan mengubah hyperparameter. Jelaskan secara singkat semua temuan yang kamu dapatkan dari penelitian ini.\n",
    "    4. Periksa kualitas model menggunakan test set.\n",
    "    5. Tugas tambahan: lakukan sanity check terhadap model. Data ini lebih kompleks dari data-data yang pernah kamu kerjakan sebelumnya. Jadi, ini memang bukan tugas yang mudah. Kita akan mempelajarinya lebih jauh nanti."
   ]
  },
  {
   "cell_type": "markdown",
   "metadata": {},
   "source": [
    "# Deskripsi data\n",
    "Setiap observasi dalam dataset yang kita miliki memuat informasi perilaku bulanan tentang satu pengguna. Informasi tersebut mencakup: \n",
    "- сalls — jumlah panggilan\n",
    "- minutes — total durasi panggilan dalam satuan menit\n",
    "- messages — jumlah pesan teks\n",
    "- mb_used — traffic penggunaan internet dalam satuan MB\n",
    "- is_ultimate — paket untuk bulan yang sedang berjalan (Ultimate - 1, Surf - 0)"
   ]
  },
  {
   "cell_type": "markdown",
   "metadata": {},
   "source": [
    "## Buka File Data dan Pelajari Informasi Umumnya\n",
    "Buka dan periksa file data secara teliti. File path: /datasets/users_behavior.csv. Kemudian unduh dataset."
   ]
  },
  {
   "cell_type": "markdown",
   "metadata": {},
   "source": [
    "###  Buka File Data"
   ]
  },
  {
   "cell_type": "code",
   "execution_count": 1,
   "metadata": {},
   "outputs": [],
   "source": [
    "# Import Library Data Processing\n",
    "import pandas as pd\n",
    "import numpy as np\n",
    "\n",
    "# Import Library Data Visualization\n",
    "import seaborn as sns\n",
    "import matplotlib.pyplot as plt\n",
    "\n",
    "# Import Library Statistics\n",
    "import scipy.stats as st\n",
    "from scipy import stats\n"
   ]
  },
  {
   "cell_type": "code",
   "execution_count": 2,
   "metadata": {},
   "outputs": [],
   "source": [
    "# Muat file data\n",
    "data = pd.read_csv('/datasets/users_behavior.csv')"
   ]
  },
  {
   "cell_type": "code",
   "execution_count": 3,
   "metadata": {},
   "outputs": [
    {
     "data": {
      "text/html": [
       "<div>\n",
       "<style scoped>\n",
       "    .dataframe tbody tr th:only-of-type {\n",
       "        vertical-align: middle;\n",
       "    }\n",
       "\n",
       "    .dataframe tbody tr th {\n",
       "        vertical-align: top;\n",
       "    }\n",
       "\n",
       "    .dataframe thead th {\n",
       "        text-align: right;\n",
       "    }\n",
       "</style>\n",
       "<table border=\"1\" class=\"dataframe\">\n",
       "  <thead>\n",
       "    <tr style=\"text-align: right;\">\n",
       "      <th></th>\n",
       "      <th>calls</th>\n",
       "      <th>minutes</th>\n",
       "      <th>messages</th>\n",
       "      <th>mb_used</th>\n",
       "      <th>is_ultra</th>\n",
       "    </tr>\n",
       "  </thead>\n",
       "  <tbody>\n",
       "    <tr>\n",
       "      <th>0</th>\n",
       "      <td>40.0</td>\n",
       "      <td>311.90</td>\n",
       "      <td>83.0</td>\n",
       "      <td>19915.42</td>\n",
       "      <td>0</td>\n",
       "    </tr>\n",
       "    <tr>\n",
       "      <th>1</th>\n",
       "      <td>85.0</td>\n",
       "      <td>516.75</td>\n",
       "      <td>56.0</td>\n",
       "      <td>22696.96</td>\n",
       "      <td>0</td>\n",
       "    </tr>\n",
       "    <tr>\n",
       "      <th>2</th>\n",
       "      <td>77.0</td>\n",
       "      <td>467.66</td>\n",
       "      <td>86.0</td>\n",
       "      <td>21060.45</td>\n",
       "      <td>0</td>\n",
       "    </tr>\n",
       "    <tr>\n",
       "      <th>3</th>\n",
       "      <td>106.0</td>\n",
       "      <td>745.53</td>\n",
       "      <td>81.0</td>\n",
       "      <td>8437.39</td>\n",
       "      <td>1</td>\n",
       "    </tr>\n",
       "    <tr>\n",
       "      <th>4</th>\n",
       "      <td>66.0</td>\n",
       "      <td>418.74</td>\n",
       "      <td>1.0</td>\n",
       "      <td>14502.75</td>\n",
       "      <td>0</td>\n",
       "    </tr>\n",
       "  </tbody>\n",
       "</table>\n",
       "</div>"
      ],
      "text/plain": [
       "   calls  minutes  messages   mb_used  is_ultra\n",
       "0   40.0   311.90      83.0  19915.42         0\n",
       "1   85.0   516.75      56.0  22696.96         0\n",
       "2   77.0   467.66      86.0  21060.45         0\n",
       "3  106.0   745.53      81.0   8437.39         1\n",
       "4   66.0   418.74       1.0  14502.75         0"
      ]
     },
     "execution_count": 3,
     "metadata": {},
     "output_type": "execute_result"
    }
   ],
   "source": [
    "# Informasi umum\n",
    "data.head()"
   ]
  },
  {
   "cell_type": "code",
   "execution_count": 4,
   "metadata": {},
   "outputs": [
    {
     "name": "stdout",
     "output_type": "stream",
     "text": [
      "<class 'pandas.core.frame.DataFrame'>\n",
      "RangeIndex: 3214 entries, 0 to 3213\n",
      "Data columns (total 5 columns):\n",
      " #   Column    Non-Null Count  Dtype  \n",
      "---  ------    --------------  -----  \n",
      " 0   calls     3214 non-null   float64\n",
      " 1   minutes   3214 non-null   float64\n",
      " 2   messages  3214 non-null   float64\n",
      " 3   mb_used   3214 non-null   float64\n",
      " 4   is_ultra  3214 non-null   int64  \n",
      "dtypes: float64(4), int64(1)\n",
      "memory usage: 125.7 KB\n"
     ]
    }
   ],
   "source": [
    "data.info()"
   ]
  },
  {
   "cell_type": "code",
   "execution_count": 5,
   "metadata": {},
   "outputs": [
    {
     "name": "stdout",
     "output_type": "stream",
     "text": [
      "Data Duplicate : 0\n"
     ]
    }
   ],
   "source": [
    "# Cek Duplikasi Data\n",
    "print('Data Duplicate :', data.duplicated().sum())"
   ]
  },
  {
   "cell_type": "markdown",
   "metadata": {},
   "source": [
    "**Kesimpulan**\n",
    "- Tidak terdapat data yang hilang (missing values)\n",
    "- Tidak ada duplikasi data"
   ]
  },
  {
   "cell_type": "markdown",
   "metadata": {},
   "source": [
    "## Pisahkan Data Sumber\n",
    "Pisahkan data sumber menjadi training set, validation set, dan test set."
   ]
  },
  {
   "cell_type": "code",
   "execution_count": 6,
   "metadata": {},
   "outputs": [],
   "source": [
    "# Import library yang diperlukan\n",
    "from sklearn.model_selection import train_test_split"
   ]
  },
  {
   "cell_type": "code",
   "execution_count": 7,
   "metadata": {},
   "outputs": [],
   "source": [
    "# Pisahkan data menjadi training set\n",
    "data_train, data_rest = train_test_split(data, test_size=0.6, random_state=12345)\n"
   ]
  },
  {
   "cell_type": "code",
   "execution_count": 8,
   "metadata": {},
   "outputs": [],
   "source": [
    "# Pisahkan sisa data menjadi validation set\n",
    "data_valid, data_test = train_test_split(data_rest, test_size=0.25, random_state=12345)"
   ]
  },
  {
   "cell_type": "code",
   "execution_count": 9,
   "metadata": {},
   "outputs": [],
   "source": [
    "# Pisahkan fitur (features) dan target (label)\n",
    "features_train = data_train.drop(['is_ultra'], axis=1)\n",
    "target_train = data_train['is_ultra']\n",
    "\n",
    "features_valid = data_valid.drop(['is_ultra'], axis=1)\n",
    "target_valid = data_valid['is_ultra']\n",
    "\n",
    "features_test = data_test.drop(['is_ultra'], axis=1)\n",
    "target_test = data_test['is_ultra']\n"
   ]
  },
  {
   "cell_type": "code",
   "execution_count": 10,
   "metadata": {},
   "outputs": [
    {
     "name": "stdout",
     "output_type": "stream",
     "text": [
      "features_train : (1285, 4)\n",
      "target_train : (1285,)\n",
      "features_valid : (1446, 4)\n",
      "target_valid : (1446,)\n",
      "features_test : (1446, 4)\n",
      "target_test : (1446,)\n"
     ]
    }
   ],
   "source": [
    "# Tampilkan informasi tentang jumlah baris dan kolom\n",
    "print(\"features_train :\", features_train.shape)\n",
    "print(\"target_train :\", target_train.shape)\n",
    "print(\"features_valid :\", features_valid.shape)\n",
    "print(\"target_valid :\", target_valid.shape)\n",
    "print(\"features_test :\", features_valid.shape)\n",
    "print(\"target_test :\", target_valid.shape)"
   ]
  },
  {
   "cell_type": "markdown",
   "metadata": {},
   "source": [
    "**Kesimpulan**\n",
    "\n",
    "Pada tahap pemisahan data sumber diketahui informasi sebagai berikut:\n",
    "- features_train : memiliki 1285 baris dan 4 kolom\n",
    "- target_train : memiliki 1285 baris\n",
    "- features_valid : memiliki 1446 dan 4 kolom\n",
    "- target_valid : memiliki 1446 baris\n",
    "- features_test : memiliki 1446 dan 4 kolom\n",
    "- target_test : memiliki 1446 baris"
   ]
  },
  {
   "cell_type": "markdown",
   "metadata": {},
   "source": [
    "## Periksa kualitas model\n",
    "Periksa kualitas model yang berbeda dengan mengubah hyperparameter. Jelaskan secara singkat semua temuan yang kamu dapatkan dari penelitian ini."
   ]
  },
  {
   "cell_type": "markdown",
   "metadata": {},
   "source": [
    "### Latih Decision Tree"
   ]
  },
  {
   "cell_type": "code",
   "execution_count": 11,
   "metadata": {},
   "outputs": [],
   "source": [
    "# Import library yang diperlukan\n",
    "from sklearn.tree import DecisionTreeClassifier\n",
    "from sklearn.metrics import accuracy_score"
   ]
  },
  {
   "cell_type": "code",
   "execution_count": 12,
   "metadata": {},
   "outputs": [],
   "source": [
    "# Buat loop untuk max_depth dari 1 sampai 3\n",
    "for depth in range(1, 4):\n",
    "    # Inisialisasi model Decision Tree dengan kedalaman yang berbeda\n",
    "    dt_model = DecisionTreeClassifier(random_state=12345, max_depth=depth)\n",
    "    # Latih model Decision Tree pada training set\n",
    "    dt_model.fit(features_train, target_train)\n",
    "    # Prediksi pada validation set\n",
    "    dt_predictions = dt_model.predict(features_valid)\n",
    "    # Evaluasi akurasi model Decision Tree\n",
    "    dt_accuracy = accuracy_score(target_valid, dt_predictions)\n"
   ]
  },
  {
   "cell_type": "code",
   "execution_count": 13,
   "metadata": {},
   "outputs": [
    {
     "name": "stdout",
     "output_type": "stream",
     "text": [
      "max_depth = 3 Akurasi Decision Tree: 0.7980636237897649\n"
     ]
    }
   ],
   "source": [
    "print('max_depth =', depth, \"Akurasi Decision Tree:\", dt_accuracy)"
   ]
  },
  {
   "cell_type": "markdown",
   "metadata": {},
   "source": [
    "### Latih Random Forest "
   ]
  },
  {
   "cell_type": "code",
   "execution_count": 14,
   "metadata": {},
   "outputs": [],
   "source": [
    "# Import library yang diperlukan\n",
    "from sklearn.ensemble import RandomForestClassifier\n",
    "from sklearn.metrics import accuracy_score"
   ]
  },
  {
   "cell_type": "code",
   "execution_count": 15,
   "metadata": {},
   "outputs": [],
   "source": [
    "# Buat loop untuk n_estimators dari 1 hingga 10\n",
    "for n_estimators in range(1, 11):\n",
    "    # Inisialisasi model Random Forest dengan jumlah estimator yang berbeda\n",
    "    rf_model = RandomForestClassifier(random_state=12345, n_estimators=n_estimators)\n",
    "    # Latih model Random Forest pada training set\n",
    "    rf_model.fit(features_train, target_train)\n",
    "    # Prediksi pada validation set\n",
    "    rf_predictions = rf_model.predict(features_valid)\n",
    "    # Evaluasi akurasi model Random Forest\n",
    "    rf_accuracy = accuracy_score(target_valid, rf_predictions)"
   ]
  },
  {
   "cell_type": "code",
   "execution_count": 16,
   "metadata": {},
   "outputs": [
    {
     "name": "stdout",
     "output_type": "stream",
     "text": [
      "n-estimators = 10 Akurasi Random Forest 0.7911479944674965\n"
     ]
    }
   ],
   "source": [
    "print(\"n-estimators =\", n_estimators, \"Akurasi Random Forest\", rf_accuracy)"
   ]
  },
  {
   "cell_type": "markdown",
   "metadata": {},
   "source": [
    "### Latih Regresi Logistik"
   ]
  },
  {
   "cell_type": "code",
   "execution_count": 17,
   "metadata": {},
   "outputs": [],
   "source": [
    "# Import library yang diperlukan\n",
    "from sklearn.linear_model import LogisticRegression"
   ]
  },
  {
   "cell_type": "code",
   "execution_count": 18,
   "metadata": {},
   "outputs": [],
   "source": [
    "# Inisialisasi model Regresi Logistik\n",
    "logistic_model = LogisticRegression(random_state=12345, solver='liblinear')"
   ]
  },
  {
   "cell_type": "code",
   "execution_count": 19,
   "metadata": {},
   "outputs": [
    {
     "data": {
      "text/plain": [
       "LogisticRegression(random_state=12345, solver='liblinear')"
      ]
     },
     "execution_count": 19,
     "metadata": {},
     "output_type": "execute_result"
    }
   ],
   "source": [
    "# Latih model Regresi Logistik pada training set\n",
    "logistic_model.fit(features_train, target_train)"
   ]
  },
  {
   "cell_type": "code",
   "execution_count": 20,
   "metadata": {},
   "outputs": [],
   "source": [
    "# Hitung skor accuracy pada training set\n",
    "score_train = logistic_model.score(features_train, target_train)"
   ]
  },
  {
   "cell_type": "code",
   "execution_count": 21,
   "metadata": {
    "scrolled": true
   },
   "outputs": [],
   "source": [
    "# Hitung skor accuracy pada validation set\n",
    "score_valid = logistic_model.score(features_valid, target_valid)"
   ]
  },
  {
   "cell_type": "code",
   "execution_count": 22,
   "metadata": {},
   "outputs": [
    {
     "name": "stdout",
     "output_type": "stream",
     "text": [
      "Accuracy model regresi logistik berdasarkan training set: 0.7400778210116732\n",
      "Accuracy model regresi logistik berdasarkan validation set: 0.7565698478561549\n"
     ]
    }
   ],
   "source": [
    "print(\"Accuracy model regresi logistik berdasarkan training set:\", score_train)\n",
    "print(\"Accuracy model regresi logistik berdasarkan validation set:\", score_valid)"
   ]
  },
  {
   "cell_type": "markdown",
   "metadata": {},
   "source": [
    "**Kesimpulan**\n",
    "- Decision Tree:\n",
    "Dengan menggunakan 'max_depth = 3' didapatkan akurasi sekitar 0.798\n",
    "- Random Forest:\n",
    "Dengan menggunakan jumlah 'n_estimators = 10' didapatkan akurasi sekitar 0.791\n",
    "- Regresi Logistik:\n",
    "Model ini memiliki akurasi sekitar 0.740 pada training set dan 0.757 pada validation set.\n",
    "\n",
    "Sehingga dapat dilihat dai kesimpulan diatas 2 model yang memiliki akurasi berdekatan adalah Decision Tree dan Random Forest. Decision Tree memiliki akurasi sedikit lebih tinggi dibandingkan Random Forest."
   ]
  },
  {
   "cell_type": "markdown",
   "metadata": {},
   "source": [
    "## Periksa Kualitas Model\n",
    "Periksa kualitas model menggunakan test set."
   ]
  },
  {
   "cell_type": "markdown",
   "metadata": {},
   "source": [
    "### Periksa Kualitas Model Decision Tree"
   ]
  },
  {
   "cell_type": "code",
   "execution_count": 23,
   "metadata": {},
   "outputs": [],
   "source": [
    "# Gunakan model Decision Tree dengan max_depth = 3\n",
    "best_dt_model = DecisionTreeClassifier(random_state=12345, max_depth=3)\n",
    "best_dt_model.fit(features_train, target_train)\n",
    "dt_test_predictions = best_dt_model.predict(features_test)"
   ]
  },
  {
   "cell_type": "code",
   "execution_count": 24,
   "metadata": {},
   "outputs": [
    {
     "name": "stdout",
     "output_type": "stream",
     "text": [
      "Akurasi Decision Tree pada test set: 0.7805383022774327\n"
     ]
    }
   ],
   "source": [
    "# Evaluasi akurasi model Decision Tree pada test set\n",
    "dt_test_accuracy = accuracy_score(target_test, dt_test_predictions)\n",
    "print(\"Akurasi Decision Tree pada test set:\", dt_test_accuracy)"
   ]
  },
  {
   "cell_type": "code",
   "execution_count": 25,
   "metadata": {},
   "outputs": [],
   "source": [
    "# Fungsi untuk menghitung jumlah kesalahan\n",
    "def error_count(answers, predictions):\n",
    "    count = 0\n",
    "    for i in range(len(answers)):\n",
    "        if answers[i] != predictions[i]:\n",
    "            count += 1\n",
    "    return count"
   ]
  },
  {
   "cell_type": "code",
   "execution_count": 26,
   "metadata": {},
   "outputs": [
    {
     "name": "stdout",
     "output_type": "stream",
     "text": [
      "Jumlah kesalahan Decision Tree: 106\n"
     ]
    }
   ],
   "source": [
    "# Hitung jumlah kesalahan antara target_test dan dt_test_predictions\n",
    "error_count_dt = (target_test.values != dt_test_predictions).sum()\n",
    "print('Jumlah kesalahan Decision Tree:', error_count_dt)"
   ]
  },
  {
   "cell_type": "markdown",
   "metadata": {},
   "source": [
    "### Periksa Kualitas Model Random Forest"
   ]
  },
  {
   "cell_type": "code",
   "execution_count": 27,
   "metadata": {},
   "outputs": [],
   "source": [
    "# Gunakan model Random Forest dengan n_estimators = 10\n",
    "best_rf_model = RandomForestClassifier(random_state=12345, n_estimators=10)\n",
    "best_rf_model.fit(features_train, target_train)\n",
    "rf_test_predictions = best_rf_model.predict(features_test)"
   ]
  },
  {
   "cell_type": "code",
   "execution_count": 28,
   "metadata": {},
   "outputs": [
    {
     "name": "stdout",
     "output_type": "stream",
     "text": [
      "Akurasi Random Forest pada test set: 0.7639751552795031\n"
     ]
    }
   ],
   "source": [
    "# Evaluasi akurasi model Random Forest pada test set\n",
    "rf_test_accuracy = accuracy_score(target_test, rf_test_predictions)\n",
    "print(\"Akurasi Random Forest pada test set:\", rf_test_accuracy)"
   ]
  },
  {
   "cell_type": "code",
   "execution_count": 29,
   "metadata": {},
   "outputs": [
    {
     "name": "stdout",
     "output_type": "stream",
     "text": [
      "Jumlah kesalahan Random Forest: 114\n"
     ]
    }
   ],
   "source": [
    "# Hitung jumlah kesalahan pada test set untuk Random Forest\n",
    "error_count_rf = (target_test.values != rf_test_predictions).sum()\n",
    "print('Jumlah kesalahan Random Forest:', error_count_rf)"
   ]
  },
  {
   "cell_type": "markdown",
   "metadata": {},
   "source": [
    "### Periksa Kualitas Model Regresi Logistik"
   ]
  },
  {
   "cell_type": "code",
   "execution_count": 30,
   "metadata": {},
   "outputs": [],
   "source": [
    "# Gunakan model Regresi Logistik\n",
    "logistic_model = LogisticRegression(random_state=12345, solver='liblinear')\n",
    "logistic_model.fit(features_train, target_train)\n",
    "logistic_test_predictions = logistic_model.predict(features_test)\n"
   ]
  },
  {
   "cell_type": "code",
   "execution_count": 31,
   "metadata": {},
   "outputs": [
    {
     "name": "stdout",
     "output_type": "stream",
     "text": [
      "Akurasi Regresi Logistik pada test set: 0.7432712215320911\n"
     ]
    }
   ],
   "source": [
    "# Evaluasi akurasi model Regresi Logistik pada test set\n",
    "logistic_test_accuracy = accuracy_score(target_test, logistic_test_predictions)\n",
    "print(\"Akurasi Regresi Logistik pada test set:\", logistic_test_accuracy)\n"
   ]
  },
  {
   "cell_type": "code",
   "execution_count": 32,
   "metadata": {},
   "outputs": [
    {
     "name": "stdout",
     "output_type": "stream",
     "text": [
      "Jumlah kesalahan Regresi Logistik: 124\n"
     ]
    }
   ],
   "source": [
    "# Hitung jumlah kesalahan pada test set untuk Regresi Logistik\n",
    "error_count_logistic = (target_test.values != logistic_test_predictions).sum()\n",
    "print('Jumlah kesalahan Regresi Logistik:', error_count_logistic)"
   ]
  },
  {
   "cell_type": "markdown",
   "metadata": {},
   "source": [
    "**Kesimpulan**\n",
    "- Decision Tree memiliki akurasi sekitar 0.780 dengan 106 kesalahan.\n",
    "- Random Forest memiliki akurasi sekitar 0.764 dengan 114 kesalahan.\n",
    "- Regresi Logistik memiliki akurasi sekitar 0.743 dengan 124 kesalahan.\n",
    "\n",
    "Berdasarkan hasil perbandingan model diatas, dapat disimpulkan bahwa model Decision Tree memiliki akurasi yang paling tinggi di antara ketiga model dan jumlah kesalahan yang paling rendah di antara ketiga model. "
   ]
  },
  {
   "cell_type": "markdown",
   "metadata": {},
   "source": [
    "## Sanity Check / Cek Distribusi Target"
   ]
  },
  {
   "cell_type": "code",
   "execution_count": 33,
   "metadata": {},
   "outputs": [],
   "source": [
    "# Import library yang diperlukan\n",
    "from sklearn.metrics import classification_report"
   ]
  },
  {
   "cell_type": "code",
   "execution_count": 34,
   "metadata": {},
   "outputs": [
    {
     "data": {
      "image/png": "[encoded data removed]",
      "text/plain": [
       "<Figure size 576x432 with 1 Axes>"
      ]
     },
     "metadata": {
      "needs_background": "light"
     },
     "output_type": "display_data"
    }
   ],
   "source": [
    "# Grafik distribusi kelas target\n",
    "plt.figure(figsize=(8, 6))\n",
    "data['is_ultra'].value_counts().plot(kind='bar')\n",
    "plt.title('Distribusi Kelas Target')\n",
    "plt.xlabel('Kelas Target')\n",
    "plt.ylabel('Jumlah Sampel')\n",
    "plt.xticks([0, 1], ['Surf', 'Ultimate'])\n",
    "plt.show()"
   ]
  },
  {
   "cell_type": "code",
   "execution_count": 35,
   "metadata": {},
   "outputs": [],
   "source": [
    "# Evaluasi model pada data test set\n",
    "dt_test_predictions = best_dt_model.predict(features_test)"
   ]
  },
  {
   "cell_type": "code",
   "execution_count": 36,
   "metadata": {},
   "outputs": [
    {
     "name": "stdout",
     "output_type": "stream",
     "text": [
      "Laporan Klasifikasi:\n",
      "              precision    recall  f1-score   support\n",
      "\n",
      "           0       0.80      0.93      0.86       345\n",
      "           1       0.70      0.41      0.51       138\n",
      "\n",
      "    accuracy                           0.78       483\n",
      "   macro avg       0.75      0.67      0.69       483\n",
      "weighted avg       0.77      0.78      0.76       483\n",
      "\n"
     ]
    }
   ],
   "source": [
    "# Tampilkan laporan klasifikasi\n",
    "print(\"Laporan Klasifikasi:\")\n",
    "print(classification_report(target_test, dt_test_predictions))"
   ]
  },
  {
   "cell_type": "code",
   "execution_count": 37,
   "metadata": {},
   "outputs": [
    {
     "name": "stdout",
     "output_type": "stream",
     "text": [
      "Distribusi Kelas Target (dalam persentase):\n",
      "0    69.352831\n",
      "1    30.647169\n",
      "Name: is_ultra, dtype: float64\n"
     ]
    }
   ],
   "source": [
    "# Persentase distribusi target\n",
    "total_samples = len(data)\n",
    "class_distribution = data['is_ultra'].value_counts(normalize=True) * 100\n",
    "print(\"Distribusi Kelas Target (dalam persentase):\")\n",
    "print(class_distribution)"
   ]
  },
  {
   "cell_type": "markdown",
   "metadata": {},
   "source": [
    "## Kesimpulan Umum\n",
    "**Kesimpulan Tahap 1**\n",
    "- Tidak terdapat data yang hilang (missing values)\n",
    "- Tidak ada duplikasi data\n",
    "\n",
    "**Kesimpulan Tahap 2**\n",
    "\n",
    "Pada tahap pemisahan data sumber diketahui informasi sebagai berikut:\n",
    "- features_train : memiliki 1285 baris dan 4 kolom\n",
    "- target_train : memiliki 1285 baris\n",
    "- features_valid : memiliki 1446 dan 4 kolom\n",
    "- target_valid : memiliki 1446 baris\n",
    "- features_test : memiliki 1446 dan 4 kolom\n",
    "- target_test : memiliki 1446 baris\n",
    "\n",
    "**Kesimpulan Tahap 3**\n",
    "\n",
    "- Decision Tree: Dengan menggunakan 'max_depth = 3' didapatkan akurasi sekitar 0.798\n",
    "- Random Forest: Dengan menggunakan jumlah 'n_estimators = 10' didapatkan akurasi sekitar 0.791\n",
    "- Regresi Logistik: Model ini memiliki akurasi sekitar 0.740 pada training set dan 0.757 pada validation set.\n",
    "\n",
    "Sehingga dapat dilihat dai kesimpulan diatas 2 model yang memiliki akurasi berdekatan adalah Decision Tree dan Random Forest. Decision Tree memiliki akurasi sedikit lebih tinggi dibandingkan Random Forest.\n",
    "\n",
    "\n",
    "**Kesimpulan Tahap 4**\n",
    "\n",
    "- Decision Tree memiliki akurasi sekitar 0.780 dengan 106 kesalahan.\n",
    "- Random Forest memiliki akurasi sekitar 0.764 dengan 114 kesalahan.\n",
    "- Regresi Logistik memiliki akurasi sekitar 0.743 dengan 124 kesalahan.\n",
    "\n",
    "Berdasarkan hasil perbandingan model diatas, dapat disimpulkan bahwa model Decision Tree memiliki akurasi yang paling tinggi di antara ketiga model dan jumlah kesalahan yang paling rendah di antara ketiga model.\n",
    "\n",
    "**Kesimpulan Tahap 5**\n",
    "\n",
    "Distribusi Kelas Target (dalam persentase):\n",
    "- 0    =    69.352831\n",
    "- 1    =    30.647169"
   ]
  }
 ],
 "metadata": {
  "kernelspec": {
   "display_name": "Python 3 (ipykernel)",
   "language": "python",
   "name": "python3"
  },
  "language_info": {
   "codemirror_mode": {
    "name": "ipython",
    "version": 3
   },
   "file_extension": ".py",
   "mimetype": "text/x-python",
   "name": "python",
   "nbconvert_exporter": "python",
   "pygments_lexer": "ipython3",
   "version": "3.11.7"
  },
  "toc": {
   "base_numbering": 1,
   "nav_menu": {},
   "number_sections": true,
   "sideBar": true,
   "skip_h1_title": true,
   "title_cell": "Table of Contents",
   "title_sidebar": "Contents",
   "toc_cell": false,
   "toc_position": {},
   "toc_section_display": true,
   "toc_window_display": false
  }
 },
 "nbformat": 4,
 "nbformat_minor": 2
}
